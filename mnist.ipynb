{
  "nbformat": 4,
  "nbformat_minor": 0,
  "metadata": {
    "colab": {
      "name": "mnist.ipynb",
      "provenance": [],
      "mount_file_id": "1EbIlx128gs5ugm-mWAiGCQMemBRlBhmR",
      "authorship_tag": "ABX9TyNU9hyyFv+ULWI3+SWQ94i+",
      "include_colab_link": true
    },
    "kernelspec": {
      "name": "python3",
      "display_name": "Python 3"
    },
    "language_info": {
      "name": "python"
    },
    "widgets": {
      "application/vnd.jupyter.widget-state+json": {
        "0383d524938240c985d94a35d2c28bb0": {
          "model_module": "@jupyter-widgets/controls",
          "model_name": "VBoxModel",
          "state": {
            "_view_name": "VBoxView",
            "_dom_classes": [
              "widget-interact"
            ],
            "_model_name": "VBoxModel",
            "_view_module": "@jupyter-widgets/controls",
            "_model_module_version": "1.5.0",
            "_view_count": null,
            "_view_module_version": "1.5.0",
            "box_style": "",
            "layout": "IPY_MODEL_bbe7868dcd2249ba9a63205eecc6bd8f",
            "_model_module": "@jupyter-widgets/controls",
            "children": [
              "IPY_MODEL_fe3e9bbc4ca44890a849a812341b1f49",
              "IPY_MODEL_859ef5f65dd740b88688ab2afabb18be"
            ]
          }
        },
        "bbe7868dcd2249ba9a63205eecc6bd8f": {
          "model_module": "@jupyter-widgets/base",
          "model_name": "LayoutModel",
          "state": {
            "_view_name": "LayoutView",
            "grid_template_rows": null,
            "right": null,
            "justify_content": null,
            "_view_module": "@jupyter-widgets/base",
            "overflow": null,
            "_model_module_version": "1.2.0",
            "_view_count": null,
            "flex_flow": null,
            "width": null,
            "min_width": null,
            "border": null,
            "align_items": null,
            "bottom": null,
            "_model_module": "@jupyter-widgets/base",
            "top": null,
            "grid_column": null,
            "overflow_y": null,
            "overflow_x": null,
            "grid_auto_flow": null,
            "grid_area": null,
            "grid_template_columns": null,
            "flex": null,
            "_model_name": "LayoutModel",
            "justify_items": null,
            "grid_row": null,
            "max_height": null,
            "align_content": null,
            "visibility": null,
            "align_self": null,
            "height": null,
            "min_height": null,
            "padding": null,
            "grid_auto_rows": null,
            "grid_gap": null,
            "max_width": null,
            "order": null,
            "_view_module_version": "1.2.0",
            "grid_template_areas": null,
            "object_position": null,
            "object_fit": null,
            "grid_auto_columns": null,
            "margin": null,
            "display": null,
            "left": null
          }
        },
        "fe3e9bbc4ca44890a849a812341b1f49": {
          "model_module": "@jupyter-widgets/controls",
          "model_name": "IntSliderModel",
          "state": {
            "_view_name": "IntSliderView",
            "style": "IPY_MODEL_9615d3844cf049a09dc04b49ba107572",
            "_dom_classes": [],
            "description": "image_idx",
            "step": 1,
            "_model_name": "IntSliderModel",
            "orientation": "horizontal",
            "max": 1000,
            "_view_module": "@jupyter-widgets/controls",
            "_model_module_version": "1.5.0",
            "value": 427,
            "_view_count": null,
            "disabled": false,
            "_view_module_version": "1.5.0",
            "min": 0,
            "continuous_update": true,
            "readout_format": "d",
            "description_tooltip": null,
            "readout": true,
            "_model_module": "@jupyter-widgets/controls",
            "layout": "IPY_MODEL_90d49d2d55cf48fdba0f45a45ccdb8ac"
          }
        },
        "859ef5f65dd740b88688ab2afabb18be": {
          "model_module": "@jupyter-widgets/output",
          "model_name": "OutputModel",
          "state": {
            "_view_name": "OutputView",
            "msg_id": "",
            "_dom_classes": [],
            "_model_name": "OutputModel",
            "outputs": [
              {
                "output_type": "stream",
                "metadata": {
                  "tags": []
                },
                "text": "/usr/local/lib/python3.7/dist-packages/ipykernel_launcher.py:11: ComplexWarning: Casting complex values to real discards the imaginary part\n  # This is added back by InteractiveShellApp.init_path()\n",
                "stream": "stderr"
              },
              {
                "output_type": "display_data",
                "metadata": {
                  "tags": [],
                  "needs_background": "light"
                },
                "image/png": "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\n",
                "text/plain": "<Figure size 1440x1440 with 1 Axes>"
              }
            ],
            "_view_module": "@jupyter-widgets/output",
            "_model_module_version": "1.0.0",
            "_view_count": null,
            "_view_module_version": "1.0.0",
            "layout": "IPY_MODEL_0b40c3c9bc3d4534b6db1d68f7e342b1",
            "_model_module": "@jupyter-widgets/output"
          }
        },
        "9615d3844cf049a09dc04b49ba107572": {
          "model_module": "@jupyter-widgets/controls",
          "model_name": "SliderStyleModel",
          "state": {
            "_view_name": "StyleView",
            "handle_color": null,
            "_model_name": "SliderStyleModel",
            "description_width": "",
            "_view_module": "@jupyter-widgets/base",
            "_model_module_version": "1.5.0",
            "_view_count": null,
            "_view_module_version": "1.2.0",
            "_model_module": "@jupyter-widgets/controls"
          }
        },
        "90d49d2d55cf48fdba0f45a45ccdb8ac": {
          "model_module": "@jupyter-widgets/base",
          "model_name": "LayoutModel",
          "state": {
            "_view_name": "LayoutView",
            "grid_template_rows": null,
            "right": null,
            "justify_content": null,
            "_view_module": "@jupyter-widgets/base",
            "overflow": null,
            "_model_module_version": "1.2.0",
            "_view_count": null,
            "flex_flow": null,
            "width": null,
            "min_width": null,
            "border": null,
            "align_items": null,
            "bottom": null,
            "_model_module": "@jupyter-widgets/base",
            "top": null,
            "grid_column": null,
            "overflow_y": null,
            "overflow_x": null,
            "grid_auto_flow": null,
            "grid_area": null,
            "grid_template_columns": null,
            "flex": null,
            "_model_name": "LayoutModel",
            "justify_items": null,
            "grid_row": null,
            "max_height": null,
            "align_content": null,
            "visibility": null,
            "align_self": null,
            "height": null,
            "min_height": null,
            "padding": null,
            "grid_auto_rows": null,
            "grid_gap": null,
            "max_width": null,
            "order": null,
            "_view_module_version": "1.2.0",
            "grid_template_areas": null,
            "object_position": null,
            "object_fit": null,
            "grid_auto_columns": null,
            "margin": null,
            "display": null,
            "left": null
          }
        },
        "0b40c3c9bc3d4534b6db1d68f7e342b1": {
          "model_module": "@jupyter-widgets/base",
          "model_name": "LayoutModel",
          "state": {
            "_view_name": "LayoutView",
            "grid_template_rows": null,
            "right": null,
            "justify_content": null,
            "_view_module": "@jupyter-widgets/base",
            "overflow": null,
            "_model_module_version": "1.2.0",
            "_view_count": null,
            "flex_flow": null,
            "width": null,
            "min_width": null,
            "border": null,
            "align_items": null,
            "bottom": null,
            "_model_module": "@jupyter-widgets/base",
            "top": null,
            "grid_column": null,
            "overflow_y": null,
            "overflow_x": null,
            "grid_auto_flow": null,
            "grid_area": null,
            "grid_template_columns": null,
            "flex": null,
            "_model_name": "LayoutModel",
            "justify_items": null,
            "grid_row": null,
            "max_height": null,
            "align_content": null,
            "visibility": null,
            "align_self": null,
            "height": null,
            "min_height": null,
            "padding": null,
            "grid_auto_rows": null,
            "grid_gap": null,
            "max_width": null,
            "order": null,
            "_view_module_version": "1.2.0",
            "grid_template_areas": null,
            "object_position": null,
            "object_fit": null,
            "grid_auto_columns": null,
            "margin": null,
            "display": null,
            "left": null
          }
        }
      }
    }
  },
  "cells": [
    {
      "cell_type": "markdown",
      "metadata": {
        "id": "view-in-github",
        "colab_type": "text"
      },
      "source": [
        "<a href=\"https://colab.research.google.com/github/abhijain864/Project_Principal-Component-Analysis/blob/main/mnist.ipynb\" target=\"_parent\"><img src=\"https://colab.research.google.com/assets/colab-badge.svg\" alt=\"Open In Colab\"/></a>"
      ]
    },
    {
      "cell_type": "markdown",
      "metadata": {
        "id": "BYod8h0ryzOm"
      },
      "source": [
        "# Principal Component Analysis (PCA)\n",
        "We will implement the PCA algorithm. We will first implement PCA, then apply it (once again) to the MNIST digit dataset."
      ]
    },
    {
      "cell_type": "markdown",
      "metadata": {
        "id": "CoVHFiaNy2I2"
      },
      "source": [
        "## Learning objective\n",
        "1. Write code that implements PCA.\n",
        "2. Write code that implements PCA for high-dimensional datasets"
      ]
    },
    {
      "cell_type": "code",
      "metadata": {
        "colab": {
          "base_uri": "https://localhost:8080/"
        },
        "id": "6vZgqM-BNYFu",
        "outputId": "eb31cafb-e677-4c2c-d9a4-f0ba9ad4758e"
      },
      "source": [
        "%cd /content/drive/MyDrive/projects/PCA"
      ],
      "execution_count": 3,
      "outputs": [
        {
          "output_type": "stream",
          "text": [
            "/content/drive/MyDrive/projects/PCA\n"
          ],
          "name": "stdout"
        }
      ]
    },
    {
      "cell_type": "code",
      "metadata": {
        "id": "1_wMYzXTyo5c"
      },
      "source": [
        "import numpy as np\n",
        "import timeit\n",
        "import matplotlib as mpl\n",
        "mpl.use('Agg')\n",
        "import matplotlib.pyplot as plt\n",
        "plt.style.use('fivethirtyeight')\n",
        "from ipywidgets import interact"
      ],
      "execution_count": 6,
      "outputs": []
    },
    {
      "cell_type": "code",
      "metadata": {
        "id": "YRZzzy_Wy_K-"
      },
      "source": [
        "from six.moves import urllib\n",
        "# from sklearn.datasets import fetch_mldata\n",
        "\n",
        "def load_mnist():\n",
        "  mnist_path = \"mnist-original.mat\"\n",
        "  from scipy.io import loadmat\n",
        "  mnist_raw = loadmat(mnist_path)\n",
        "  mnist = {\n",
        "      \"data\": mnist_raw[\"data\"].T,\n",
        "      \"target\": mnist_raw[\"label\"][0],\n",
        "      \"COL_NAMES\": [\"label\", \"data\"],\n",
        "      \"DESCR\": \"mldata.org dataset: mnist-original\",\n",
        "  }\n",
        "  return mnist\n",
        "\n",
        "MNIST = load_mnist()\n",
        "images, labels = MNIST['data'], MNIST['target']"
      ],
      "execution_count": 5,
      "outputs": []
    },
    {
      "cell_type": "code",
      "metadata": {
        "id": "m01qv8GHzCln"
      },
      "source": [
        "%matplotlib inline"
      ],
      "execution_count": 8,
      "outputs": []
    },
    {
      "cell_type": "code",
      "metadata": {
        "colab": {
          "base_uri": "https://localhost:8080/"
        },
        "id": "voouGhrazEIv",
        "outputId": "30fb469b-23dc-4f0e-8d89-dfdf73acbd4f"
      },
      "source": [
        "images.shape"
      ],
      "execution_count": 7,
      "outputs": [
        {
          "output_type": "execute_result",
          "data": {
            "text/plain": [
              "(70000, 784)"
            ]
          },
          "metadata": {
            "tags": []
          },
          "execution_count": 7
        }
      ]
    },
    {
      "cell_type": "markdown",
      "metadata": {
        "id": "ynH6CAMezIEO"
      },
      "source": [
        "Now, let's plot a digit from the dataset:"
      ]
    },
    {
      "cell_type": "code",
      "metadata": {
        "colab": {
          "base_uri": "https://localhost:8080/",
          "height": 262
        },
        "id": "jhsAlH6_zHhh",
        "outputId": "a8d5078f-665c-4f92-d038-b50f7db889c2"
      },
      "source": [
        "plt.figure(figsize=(4,4))\n",
        "plt.imshow(images[0].reshape(28,28), cmap='gray');"
      ],
      "execution_count": 9,
      "outputs": [
        {
          "output_type": "display_data",
          "data": {
            "image/png": "[encoded data removed]",
            "text/plain": [
              "<Figure size 288x288 with 1 Axes>"
            ]
          },
          "metadata": {
            "tags": [],
            "needs_background": "light"
          }
        }
      ]
    },
    {
      "cell_type": "markdown",
      "metadata": {
        "id": "LN7yT_yWzNO7"
      },
      "source": [
        "Before we implement PCA, we will need to do some data preprocessing. In this assessment.\n",
        "\n",
        "The preprocessing steps are\n",
        "1. Convert unsigned interger 8 (uint8) encoding of pixels to a floating point number between 0-1.\n",
        "2. Subtract from each image the mean $\\boldsymbol \\mu$.\n",
        "3. Scale each dimension of each image by $\\frac{1}{\\sigma}$ where $\\sigma$ is the stardard deviation.\n",
        "\n",
        "The steps above ensure that our images will have zero mean and one variance. These preprocessing\n",
        "steps are also known as [Data Normalization or Feature Scaling](https://en.wikipedia.org/wiki/Feature_scaling)."
      ]
    },
    {
      "cell_type": "markdown",
      "metadata": {
        "id": "nq5_O3swzQp5"
      },
      "source": [
        "## 1. PCA\n",
        "\n",
        "Now we will implement PCA. Before we do that, let's pause for a moment and\n",
        "think about the steps for performing PCA. Assume that we are performing PCA on\n",
        "some dataset $\\boldsymbol X$ for $M$ principal components. \n",
        "We then need to perform the following steps, which we break into parts:\n",
        "\n",
        "1. Data normalization (`normalize`).\n",
        "2. Find eigenvalues and corresponding eigenvectors for the covariance matrix $S$.\n",
        "   Sort by the largest eigenvalues and the corresponding eigenvectors (`eig`).\n",
        "\n",
        "After these steps, we can then compute the projection and reconstruction of the data onto the spaced spanned by the top $n$ eigenvectors."
      ]
    },
    {
      "cell_type": "code",
      "metadata": {
        "id": "8M9pLuXnzi1E"
      },
      "source": [
        "# GRADED FUNCTION: DO NOT EDIT THIS LINE\n",
        "\n",
        "def normalize(X):\n",
        "    \"\"\"Normalize the given dataset X\n",
        "    Args:\n",
        "        X: ndarray, dataset\n",
        "    \n",
        "    Returns:\n",
        "        (Xbar, mean, std): tuple of ndarray, Xbar is the normalized dataset\n",
        "        with mean 0 and standard deviation 1; mean and std are the \n",
        "        mean and standard deviation respectively.\n",
        "    \n",
        "    Note:\n",
        "        You will encounter dimensions where the standard deviation is\n",
        "        zero, for those when you do normalization the normalized data\n",
        "        will be NaN. Handle this by setting using `std = 1` for those \n",
        "        dimensions when doing normalization.\n",
        "    \"\"\"\n",
        "    mu = np.mean(X,axis=0) # <-- EDIT THIS, compute the mean of X\n",
        "    std = np.std(X, axis=0)\n",
        "    std_filled = std.copy()\n",
        "    std_filled[std==0] = 1\n",
        "    Xbar = (X-mu)/(std_filled)                  # <-- EDIT THIS, compute the normalized data Xbar\n",
        "    return Xbar, mu, std_filled\n",
        "\n",
        "def eig(S):\n",
        "    \"\"\"Compute the eigenvalues and corresponding eigenvectors \n",
        "        for the covariance matrix S.\n",
        "    Args:\n",
        "        S: ndarray, covariance matrix\n",
        "    \n",
        "    Returns:\n",
        "        (eigvals, eigvecs): ndarray, the eigenvalues and eigenvectors\n",
        "\n",
        "    Note:\n",
        "        the eigenvals and eigenvecs should be sorted in descending\n",
        "        order of the eigen values\n",
        "    \"\"\"\n",
        "    (val, vec) = np.linalg.eig(S)\n",
        "    vec = vec.T\n",
        "    vec = vec[np.argsort(val)[::-1]]\n",
        "    val = np.sort(val)[::-1]\n",
        "    return (val,vec) # <-- EDIT THIS to return the eigenvalues and corresponding eigenvectors\n",
        "\n",
        "def projection_matrix(B):\n",
        "    \"\"\"Compute the projection matrix onto the space spanned by `B`\n",
        "    Args:\n",
        "        B: ndarray of dimension (D, M), the basis for the subspace\n",
        "    \n",
        "    Returns:\n",
        "        P: the projection matrix\n",
        "    \"\"\"\n",
        "    \n",
        "    P = np.dot(B,B.T)\n",
        "    return P # <-- EDIT THIS to compute the projection matrix\n",
        "\n",
        "def PCA(X, num_components):\n",
        "    \"\"\"\n",
        "    Args:\n",
        "        X: ndarray of size (N, D), where D is the dimension of the data,\n",
        "           and N is the number of datapoints\n",
        "        num_components: the number of principal components to use.\n",
        "    Returns:\n",
        "        X_reconstruct: ndarray of the reconstruction\n",
        "        of X from the first `num_components` principal components.\n",
        "    \"\"\"\n",
        "    # your solution should take advantage of the functions you have implemented above.\n",
        "    X,a,b = normalize(X)\n",
        "    val,vec = eig(np.dot(X.T,X))\n",
        "    B = vec[:num_components].T\n",
        "    mag = np.sqrt(np.sum(B*B,axis=0))\n",
        "    B=B/mag\n",
        "    reconst = (projection_matrix(B) @ X.T).T\n",
        "    \n",
        "    return reconst # <-- EDIT THIS to return the reconstruction of X\n"
      ],
      "execution_count": 10,
      "outputs": []
    },
    {
      "cell_type": "code",
      "metadata": {
        "id": "pNGNsoX9znWY"
      },
      "source": [
        "## Some preprocessing of the data\n",
        "NUM_DATAPOINTS = 1000\n",
        "X = (images.reshape(-1, 28 * 28)[:NUM_DATAPOINTS]) / 255.\n",
        "Xbar, mu, std = normalize(X)"
      ],
      "execution_count": 11,
      "outputs": []
    },
    {
      "cell_type": "code",
      "metadata": {
        "colab": {
          "base_uri": "https://localhost:8080/"
        },
        "id": "Yupogf4Qzpro",
        "outputId": "4fe0563b-8f50-4d32-e6ff-85e85d148ee3"
      },
      "source": [
        "for num_component in range(1, 20):\n",
        "    from sklearn.decomposition import PCA as SKPCA\n",
        "    # We can compute a standard solution given by scikit-learn's implementation of PCA\n",
        "    pca = SKPCA(n_components=num_component, svd_solver='full')\n",
        "    sklearn_reconst = pca.inverse_transform(pca.fit_transform(Xbar))\n",
        "    reconst = PCA(Xbar, num_component)\n",
        "    np.testing.assert_almost_equal(reconst, sklearn_reconst)\n",
        "    print(np.square(reconst - sklearn_reconst).sum())"
      ],
      "execution_count": 12,
      "outputs": [
        {
          "output_type": "stream",
          "text": [
            "(7.84120369715414e-24+0j)\n",
            "(9.3208353219143e-24+0j)\n",
            "(1.0474130465712875e-23+0j)\n",
            "(1.1280886868876123e-23+0j)\n",
            "(1.3347762119729062e-23+0j)\n",
            "(1.382739998792411e-23+0j)\n",
            "(2.3509999682523137e-23+0j)\n",
            "(3.0193307114181974e-23+0j)\n",
            "(3.564121008131912e-23+0j)\n",
            "(2.5319102165344496e-22+0j)\n",
            "(2.1306450177048213e-22+0j)\n",
            "(1.1830718805238513e-22+0j)\n",
            "(1.024054153170437e-20+0j)\n",
            "(7.521215775309539e-23+0j)\n",
            "(5.168038667841954e-23+0j)\n",
            "(4.963827935978419e-23+0j)\n",
            "(4.8482335556571305e-23+0j)\n",
            "(6.420667509153577e-23+0j)\n",
            "(8.006983656746118e-23+0j)\n"
          ],
          "name": "stdout"
        }
      ]
    },
    {
      "cell_type": "markdown",
      "metadata": {
        "id": "a6JecU0mzt6X"
      },
      "source": [
        "The greater number of of principal components we use, the smaller will our reconstruction\n",
        "error be. Now, let's answer the following question: \n",
        "\n",
        "\n",
        "> How many principal components do we need\n",
        "> in order to reach a Mean Squared Error (MSE) of less than $100$ for our dataset?"
      ]
    },
    {
      "cell_type": "markdown",
      "metadata": {
        "id": "Ye1r6TaMzxBQ"
      },
      "source": [
        "We have provided a function in the next cell which computes the mean squared error (MSE), which will be useful for answering the question above."
      ]
    },
    {
      "cell_type": "code",
      "metadata": {
        "id": "gk4cPEanzze7"
      },
      "source": [
        "def mse(predict, actual):\n",
        "    \"\"\"Helper function for computing the mean squared error (MSE)\"\"\"\n",
        "    return np.square(predict - actual).sum(axis=1).mean()"
      ],
      "execution_count": 13,
      "outputs": []
    },
    {
      "cell_type": "code",
      "metadata": {
        "id": "nRI2TE_Gz1dq"
      },
      "source": [
        "loss = []\n",
        "reconstructions = []\n",
        "# iterate over different number of principal components, and compute the MSE\n",
        "for num_component in range(1, 100):\n",
        "    reconst = PCA(Xbar, num_component)\n",
        "    error = mse(reconst, Xbar)\n",
        "    reconstructions.append(reconst)\n",
        "    # print('n = {:d}, reconstruction_error = {:f}'.format(num_component, error))\n",
        "    loss.append((num_component, error))\n",
        "\n",
        "reconstructions = np.asarray(reconstructions)\n",
        "reconstructions = reconstructions * std + mu # \"unnormalize\" the reconstructed image\n",
        "loss = np.asarray(loss)"
      ],
      "execution_count": 14,
      "outputs": []
    },
    {
      "cell_type": "code",
      "metadata": {
        "colab": {
          "base_uri": "https://localhost:8080/",
          "height": 204
        },
        "id": "-8CsvpeZz4HG",
        "outputId": "49797672-d274-4050-ecef-258a92ca0775"
      },
      "source": [
        "import pandas as pd\n",
        "# create a table showing the number of principal components and MSE\n",
        "pd.DataFrame(loss).head()"
      ],
      "execution_count": 15,
      "outputs": [
        {
          "output_type": "execute_result",
          "data": {
            "text/html": [
              "<div>\n",
              "<style scoped>\n",
              "    .dataframe tbody tr th:only-of-type {\n",
              "        vertical-align: middle;\n",
              "    }\n",
              "\n",
              "    .dataframe tbody tr th {\n",
              "        vertical-align: top;\n",
              "    }\n",
              "\n",
              "    .dataframe thead th {\n",
              "        text-align: right;\n",
              "    }\n",
              "</style>\n",
              "<table border=\"1\" class=\"dataframe\">\n",
              "  <thead>\n",
              "    <tr style=\"text-align: right;\">\n",
              "      <th></th>\n",
              "      <th>0</th>\n",
              "      <th>1</th>\n",
              "    </tr>\n",
              "  </thead>\n",
              "  <tbody>\n",
              "    <tr>\n",
              "      <th>0</th>\n",
              "      <td>1.000000+0.000000j</td>\n",
              "      <td>445.176488+0.000000j</td>\n",
              "    </tr>\n",
              "    <tr>\n",
              "      <th>1</th>\n",
              "      <td>2.000000+0.000000j</td>\n",
              "      <td>403.941979+0.000000j</td>\n",
              "    </tr>\n",
              "    <tr>\n",
              "      <th>2</th>\n",
              "      <td>3.000000+0.000000j</td>\n",
              "      <td>377.592431+0.000000j</td>\n",
              "    </tr>\n",
              "    <tr>\n",
              "      <th>3</th>\n",
              "      <td>4.000000+0.000000j</td>\n",
              "      <td>353.300124+0.000000j</td>\n",
              "    </tr>\n",
              "    <tr>\n",
              "      <th>4</th>\n",
              "      <td>5.000000+0.000000j</td>\n",
              "      <td>335.442895+0.000000j</td>\n",
              "    </tr>\n",
              "  </tbody>\n",
              "</table>\n",
              "</div>"
            ],
            "text/plain": [
              "                    0                     1\n",
              "0  1.000000+0.000000j  445.176488+0.000000j\n",
              "1  2.000000+0.000000j  403.941979+0.000000j\n",
              "2  3.000000+0.000000j  377.592431+0.000000j\n",
              "3  4.000000+0.000000j  353.300124+0.000000j\n",
              "4  5.000000+0.000000j  335.442895+0.000000j"
            ]
          },
          "metadata": {
            "tags": []
          },
          "execution_count": 15
        }
      ]
    },
    {
      "cell_type": "code",
      "metadata": {
        "colab": {
          "base_uri": "https://localhost:8080/",
          "height": 330
        },
        "id": "Hf-Juv3Hz6pJ",
        "outputId": "d7de870a-7725-4ca7-f4ac-81e1371e548e"
      },
      "source": [
        "fig, ax = plt.subplots()\n",
        "ax.plot(loss[:,0], loss[:,1]);\n",
        "ax.axhline(100, linestyle='--', color='r', linewidth=2)\n",
        "ax.xaxis.set_ticks(np.arange(1, 100, 5));\n",
        "ax.set(xlabel='num_components', ylabel='MSE', title='MSE vs number of principal components');"
      ],
      "execution_count": 16,
      "outputs": [
        {
          "output_type": "stream",
          "text": [
            "/usr/local/lib/python3.7/dist-packages/numpy/core/_asarray.py:83: ComplexWarning: Casting complex values to real discards the imaginary part\n",
            "  return array(a, dtype, copy=False, order=order)\n"
          ],
          "name": "stderr"
        },
        {
          "output_type": "display_data",
          "data": {
            "image/png": "[encoded data removed]",
            "text/plain": [
              "<Figure size 432x288 with 1 Axes>"
            ]
          },
          "metadata": {
            "tags": [],
            "needs_background": "light"
          }
        }
      ]
    },
    {
      "cell_type": "markdown",
      "metadata": {
        "id": "zM-_4dTzz-v3"
      },
      "source": [
        "But _numbers dont't tell us everything_! Just what does it mean _qualitatively_ for the loss to decrease from around\n",
        "$450.0$ to less than $100.0$?\n",
        "\n",
        "Let's find out! In the next cell, we draw the the leftmost image is the original dight. Then we show the reconstruction of the image on the right, in descending number of principal components used."
      ]
    },
    {
      "cell_type": "code",
      "metadata": {
        "colab": {
          "base_uri": "https://localhost:8080/",
          "height": 1000,
          "referenced_widgets": [
            "0383d524938240c985d94a35d2c28bb0",
            "bbe7868dcd2249ba9a63205eecc6bd8f",
            "fe3e9bbc4ca44890a849a812341b1f49",
            "859ef5f65dd740b88688ab2afabb18be",
            "9615d3844cf049a09dc04b49ba107572",
            "90d49d2d55cf48fdba0f45a45ccdb8ac",
            "0b40c3c9bc3d4534b6db1d68f7e342b1"
          ]
        },
        "id": "2_OHK1F00A-4",
        "outputId": "a97c055b-ff41-4e11-91f9-45cf6603e820"
      },
      "source": [
        "@interact(image_idx=(0, 1000))\n",
        "def show_num_components_reconst(image_idx):\n",
        "    fig, ax = plt.subplots(figsize=(20., 20.))\n",
        "    actual = X[image_idx]\n",
        "    # concatenate the actual and reconstructed images as large image before plotting it\n",
        "    x = np.concatenate([actual[np.newaxis, :], reconstructions[:, image_idx]])\n",
        "    #ax.imshow(np.hstack(x.reshape(-1, 28, 28)[np.arange(10)]),\n",
        "              #cmap='gray');\n",
        "    #ax.axvline(28, color='orange', linewidth=2)\n",
        "    img = np.hstack(x.reshape(-1, 28, 28)[np.arange(10)])\n",
        "    img = img.astype(float)\n",
        "    ax.imshow(img ,cmap='gray');"
      ],
      "execution_count": 17,
      "outputs": [
        {
          "output_type": "display_data",
          "data": {
            "application/vnd.jupyter.widget-view+json": {
              "model_id": "0383d524938240c985d94a35d2c28bb0",
              "version_minor": 0,
              "version_major": 2
            },
            "text/plain": [
              "interactive(children=(IntSlider(value=500, description='image_idx', max=1000), Output()), _dom_classes=('widge…"
            ]
          },
          "metadata": {
            "tags": []
          }
        },
        {
          "output_type": "display_data",
          "data": {
            "image/png": "[encoded data removed]",
            "text/plain": [
              "<Figure size 1440x1440 with 1 Axes>"
            ]
          },
          "metadata": {
            "tags": [],
            "needs_background": "light"
          }
        }
      ]
    },
    {
      "cell_type": "markdown",
      "metadata": {
        "id": "E86Bqkfg0EYd"
      },
      "source": [
        "We can also browse throught the reconstructions for other digits. Once again, `interact` becomes handy for visualing the reconstruction."
      ]
    },
    {
      "cell_type": "code",
      "metadata": {
        "id": "YvMGqc640GTJ"
      },
      "source": [
        "@interact(i=(0, 10))\n",
        "def show_pca_digits(i=1):\n",
        "    \"\"\"Show the i th digit and its reconstruction\"\"\"\n",
        "    plt.figure(figsize=(4,4))\n",
        "    actual_sample = X[i].reshape(28,28)\n",
        "    reconst_sample = (reconst[i, :] * std + mu).reshape(28, 28)\n",
        "    plt.imshow(np.hstack([actual_sample, reconst_sample]).astype(float), cmap='gray')\n",
        "    plt.show()"
      ],
      "execution_count": null,
      "outputs": []
    },
    {
      "cell_type": "markdown",
      "metadata": {
        "id": "8Y4FigOO0Kre"
      },
      "source": [
        "## 2. PCA for high-dimensional datasets\n",
        "\n",
        "Sometimes, the dimensionality of our dataset may be larger than the number of samples we\n",
        "have. Then it might be inefficient to perform PCA with your implementation above. Instead,\n",
        "as mentioned in the lectures, you can implement PCA in a more efficient manner, which we\n",
        "call \"PCA for high dimensional data\" (PCA_high_dim).\n",
        "\n",
        "Below are the steps for performing PCA for high dimensional dataset\n",
        "1. Compute the matrix $XX^T$ (a $N$ by $N$ matrix with $N << D$)\n",
        "2. Compute eigenvalues $\\lambda$s and eigenvectors $V$ for $XX^T$\n",
        "3. Compute the eigenvectors for the original covariance matrix as $X^TV$. Choose the eigenvectors associated with the M largest eigenvalues to be the basis of the principal subspace $U$.\n",
        "4. Compute the orthogonal projection of the data onto the subspace spanned by columns of $U$. Functions you wrote for earlier assignments will be useful."
      ]
    },
    {
      "cell_type": "code",
      "metadata": {
        "id": "eVFflFzR0Noh"
      },
      "source": [
        "# GRADED FUNCTION: DO NOT EDIT THIS LINE\n",
        "### PCA for high dimensional datasets\n",
        "\n",
        "def PCA_high_dim(X, n_components):\n",
        "    \"\"\"Compute PCA for small sample size but high-dimensional features. \n",
        "    Args:\n",
        "        X: ndarray of size (N, D), where D is the dimension of the sample,\n",
        "           and N is the number of samples\n",
        "        num_components: the number of principal components to use.\n",
        "    Returns:\n",
        "        X_reconstruct: (N, D) ndarray. the reconstruction\n",
        "        of X from the first `num_components` pricipal components.\n",
        "    \"\"\"\n",
        "    new = np.dot(X,X.T)\n",
        "    val,vec = eig(new)\n",
        "    B = vec[:n_components].T\n",
        "    B = np.dot(X.T,B)\n",
        "    mag = np.sqrt(np.sum(B*B,axis=0))\n",
        "    B=B/mag\n",
        "    reconst = (projection_matrix(B) @ X.T).T\n",
        "    return reconst # <-- EDIT THIS to return the reconstruction of X"
      ],
      "execution_count": null,
      "outputs": []
    },
    {
      "cell_type": "markdown",
      "metadata": {
        "id": "-0L4A6460Rz2"
      },
      "source": [
        "Given the same dataset, `PCA_high_dim` and `PCA` should give the same output. \n",
        "Assuming we have implemented `PCA`, correctly, we can then use `PCA` to test the correctness\n",
        "of `PCA_high_dim`. Given the same dataset, `PCA` and `PCA_high_dim` should give identical results.\n",
        "\n",
        "We can use this __invariant__\n",
        "to test our implementation of PCA_high_dim, assuming that we have correctly implemented `PCA`."
      ]
    },
    {
      "cell_type": "code",
      "metadata": {
        "id": "TBOINffH0UxX"
      },
      "source": [
        "np.testing.assert_almost_equal(PCA(Xbar, 2), PCA_high_dim(Xbar, 2))"
      ],
      "execution_count": null,
      "outputs": []
    },
    {
      "cell_type": "markdown",
      "metadata": {
        "id": "DzcX6We80XOX"
      },
      "source": [
        "Now let's compare the running time between `PCA` and `PCA_high_dim`.\n",
        "\n",
        "__Tips__ for running benchmarks or computationally expensive code:\n",
        "\n",
        "When you have some computation that takes up a non-negligible amount of time. Try separating\n",
        "the code that produces output from the code that analyzes the result (e.g. plot the results, comput statistics of the results). In this way, you don't have to recompute when you want to produce more analysis."
      ]
    },
    {
      "cell_type": "markdown",
      "metadata": {
        "id": "wUHYr7vk0Z-T"
      },
      "source": [
        "The next cell includes a function that records the time taken for executing a function `f` by repeating it for `repeat` number of times. You do not need to modify the function but you can use it to compare the running time for functions which you are interested in knowing the running time."
      ]
    },
    {
      "cell_type": "code",
      "metadata": {
        "id": "QrQn8om30cK9"
      },
      "source": [
        "def time(f, repeat=10):\n",
        "    times = []\n",
        "    for _ in range(repeat):\n",
        "        start = timeit.default_timer()\n",
        "        f()\n",
        "        stop = timeit.default_timer()\n",
        "        times.append(stop-start)\n",
        "    return np.mean(times), np.std(times)"
      ],
      "execution_count": null,
      "outputs": []
    },
    {
      "cell_type": "markdown",
      "metadata": {
        "id": "dzF9nJWH0e-4"
      },
      "source": [
        "We first benchmark the time taken to compute $\\boldsymbol X^T\\boldsymbol X$ and $\\boldsymbol X\\boldsymbol X^T$. Jupyter's magic command `%time` is quite handy."
      ]
    },
    {
      "cell_type": "markdown",
      "metadata": {
        "id": "-nswPbb40gnv"
      },
      "source": [
        "The next cell finds the running time for computing `$X^TX$` and $XX^T$ for different dimensions of X."
      ]
    },
    {
      "cell_type": "code",
      "metadata": {
        "id": "FGNDH_Rz0j4x"
      },
      "source": [
        "times_mm0 = []\n",
        "times_mm1 = []\n",
        "\n",
        "# iterate over datasets of different size\n",
        "for datasetsize in np.arange(4, 784, step=20):\n",
        "    XX = Xbar[:datasetsize] # select the first `datasetsize` samples in the dataset\n",
        "    # record the running time for computing X.T @ X\n",
        "    mu, sigma = time(lambda : XX.T @ XX)\n",
        "    times_mm0.append((datasetsize, mu, sigma))\n",
        "    \n",
        "    # record the running time for computing X @ X.T\n",
        "    mu, sigma = time(lambda : XX @ XX.T)\n",
        "    times_mm1.append((datasetsize, mu, sigma))\n",
        "    \n",
        "times_mm0 = np.asarray(times_mm0)\n",
        "times_mm1 = np.asarray(times_mm1)"
      ],
      "execution_count": null,
      "outputs": []
    },
    {
      "cell_type": "markdown",
      "metadata": {
        "id": "kvnOBg6w0mxm"
      },
      "source": [
        "Having recorded the running time for computing `X @ X.T` and `X @ X.T`, we can plot them."
      ]
    },
    {
      "cell_type": "code",
      "metadata": {
        "id": "5q7k9z1i0o8c"
      },
      "source": [
        "fig, ax = plt.subplots()\n",
        "ax.set(xlabel='size of dataset', ylabel='running time')\n",
        "bar = ax.errorbar(times_mm0[:, 0], times_mm0[:, 1], times_mm0[:, 2], label=\"$X^T X$ (PCA)\", linewidth=2)\n",
        "ax.errorbar(times_mm1[:, 0], times_mm1[:, 1], times_mm1[:, 2], label=\"$X X^T$ (PCA_high_dim)\", linewidth=2)\n",
        "ax.legend();"
      ],
      "execution_count": null,
      "outputs": []
    },
    {
      "cell_type": "markdown",
      "metadata": {
        "id": "U3M9xziy0rVx"
      },
      "source": [
        "Alternatively, use the `time` magic command for benchmarking functions."
      ]
    },
    {
      "cell_type": "code",
      "metadata": {
        "id": "ghe-1GXN0vWH"
      },
      "source": [
        "%time Xbar.T @ Xbar\n",
        "%time Xbar @ Xbar.T\n",
        "pass # Put this here so that our output does not show result of computing `Xbar @ Xbar.T`"
      ],
      "execution_count": null,
      "outputs": []
    },
    {
      "cell_type": "markdown",
      "metadata": {
        "id": "gvbc3l700xs8"
      },
      "source": [
        "Next we benchmark PCA, PCA_high_dim."
      ]
    },
    {
      "cell_type": "code",
      "metadata": {
        "id": "sHhHEckz00Nm"
      },
      "source": [
        "times0 = []\n",
        "times1 = []\n",
        "\n",
        "# iterate over datasets of different size\n",
        "for datasetsize in np.arange(4, 784, step=100):\n",
        "    XX = Xbar[:datasetsize]\n",
        "    npc = 2\n",
        "    mu, sigma = time(lambda : PCA(XX, npc), repeat=10)\n",
        "    times0.append((datasetsize, mu, sigma))\n",
        "    \n",
        "    mu, sigma = time(lambda : PCA_high_dim(XX, npc), repeat=10)\n",
        "    times1.append((datasetsize, mu, sigma))\n",
        "    \n",
        "times0 = np.asarray(times0)\n",
        "times1 = np.asarray(times1)"
      ],
      "execution_count": null,
      "outputs": []
    },
    {
      "cell_type": "markdown",
      "metadata": {
        "id": "Z2vpc4us03Cy"
      },
      "source": [
        "Let's plot the running time. Spend some time and think about what this plot means. We mentioned in lectures that PCA_high_dim are advantageous when\n",
        "we have dataset size $N$ < data dimension $M$. Although our plot does not for the two running time does not intersect exactly at $N = M$, it does show the trend."
      ]
    },
    {
      "cell_type": "code",
      "metadata": {
        "id": "gE143T6e05cD"
      },
      "source": [
        "fig, ax = plt.subplots()\n",
        "ax.set(xlabel='number of datapoints', ylabel='run time')\n",
        "ax.errorbar(times0[:, 0], times0[:, 1], times0[:, 2], label=\"PCA\", linewidth=2)\n",
        "ax.errorbar(times1[:, 0], times1[:, 1], times1[:, 2], label=\"PCA_high_dim\", linewidth=2)\n",
        "ax.legend();"
      ],
      "execution_count": null,
      "outputs": []
    },
    {
      "cell_type": "markdown",
      "metadata": {
        "id": "fF9sPnzB07SU"
      },
      "source": [
        "Again, with the magic command `time`."
      ]
    },
    {
      "cell_type": "code",
      "metadata": {
        "id": "4Y4-emEG0-BD"
      },
      "source": [
        "%time PCA(Xbar, 2)\n",
        "%time PCA_high_dim(Xbar, 2)\n",
        "pass"
      ],
      "execution_count": null,
      "outputs": []
    }
  ]
}